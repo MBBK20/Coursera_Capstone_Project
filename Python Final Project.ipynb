{
 "cells": [
  {
   "cell_type": "markdown",
   "metadata": {},
   "source": [
    "# Applied Data Science Capstone project\n"
   ]
  },
  {
   "cell_type": "markdown",
   "metadata": {},
   "source": [
    "# Executive Summary"
   ]
  },
  {
   "cell_type": "markdown",
   "metadata": {},
   "source": [
    "In this project, we will build a model to predict a road accident severity based on several features. The dataset comes from Leeds, UK and can be downloaded from the UK government open data portal website. The csv file contains records of traffic accidents that took place in 2017 with detailed features including Severity, which will be our dependent variable. Severity is a categorical variable that supports 3 classes: \"Fatal\", \"Serious\", and \"Slight\". 6 Machine learning algorithms will be used, evaluated, and compared to choose the classifier that shows the best performance. Evaluation was performed using KFold cross validation with 10 splits. The classifiers are:\n",
    "  \n",
    "Logistic Regression, \n",
    "LinearDiscriminantAnalysis (LDA), \n",
    "K Nearest Neighbor (Knn), \n",
    "Decision Tree (CART), \n",
    "Gaussian Naive Bayes, and \n",
    "Support Vector Machine (SVM)"
   ]
  },
  {
   "cell_type": "markdown",
   "metadata": {},
   "source": [
    "# Let's Start!"
   ]
  },
  {
   "cell_type": "markdown",
   "metadata": {},
   "source": [
    "First, let's start by importing libraries that we will use to write our code:"
   ]
  },
  {
   "cell_type": "code",
   "execution_count": 1,
   "metadata": {},
   "outputs": [],
   "source": [
    "import numpy as np #provides Linear Algebra tools\n",
    "import pandas as pd #for data manipulation (It is actually built on top of numpy)\n",
    "import matplotlib.pyplot as plt # for data visualization library\n",
    "import seaborn as sns # Another package for data visualization"
   ]
  },
  {
   "cell_type": "code",
   "execution_count": 2,
   "metadata": {},
   "outputs": [],
   "source": [
    "data=pd.read_csv('C:/Users/Desktop/accident data.csv') #import our dataset"
   ]
  },
  {
   "cell_type": "code",
   "execution_count": 3,
   "metadata": {
    "scrolled": true
   },
   "outputs": [
    {
     "data": {
      "text/html": [
       "<div>\n",
       "<style scoped>\n",
       "    .dataframe tbody tr th:only-of-type {\n",
       "        vertical-align: middle;\n",
       "    }\n",
       "\n",
       "    .dataframe tbody tr th {\n",
       "        vertical-align: top;\n",
       "    }\n",
       "\n",
       "    .dataframe thead th {\n",
       "        text-align: right;\n",
       "    }\n",
       "</style>\n",
       "<table border=\"1\" class=\"dataframe\">\n",
       "  <thead>\n",
       "    <tr style=\"text-align: right;\">\n",
       "      <th></th>\n",
       "      <th>Reference Number</th>\n",
       "      <th>Grid Ref: Easting</th>\n",
       "      <th>Grid Ref: Northing</th>\n",
       "      <th>Number of Vehicles</th>\n",
       "      <th>Time</th>\n",
       "      <th>road_type</th>\n",
       "      <th>Road_Surface</th>\n",
       "      <th>Day_or_Night</th>\n",
       "      <th>Weather_Conditions</th>\n",
       "      <th>Type_of_Vehicle</th>\n",
       "      <th>Casualty_Class</th>\n",
       "      <th>Gender</th>\n",
       "      <th>Age_of_Casualty</th>\n",
       "      <th>Severity</th>\n",
       "    </tr>\n",
       "  </thead>\n",
       "  <tbody>\n",
       "    <tr>\n",
       "      <th>0</th>\n",
       "      <td>3AP0313</td>\n",
       "      <td>426340</td>\n",
       "      <td>428455</td>\n",
       "      <td>1</td>\n",
       "      <td>815</td>\n",
       "      <td>A</td>\n",
       "      <td>Dry</td>\n",
       "      <td>Day</td>\n",
       "      <td>Other</td>\n",
       "      <td>Car</td>\n",
       "      <td>Pedestrian</td>\n",
       "      <td>Female</td>\n",
       "      <td>61</td>\n",
       "      <td>Serious</td>\n",
       "    </tr>\n",
       "    <tr>\n",
       "      <th>1</th>\n",
       "      <td>3BE0850</td>\n",
       "      <td>430828</td>\n",
       "      <td>433222</td>\n",
       "      <td>2</td>\n",
       "      <td>1330</td>\n",
       "      <td>A</td>\n",
       "      <td>Dry</td>\n",
       "      <td>Day</td>\n",
       "      <td>Fine without high winds</td>\n",
       "      <td>Pedal cycle</td>\n",
       "      <td>Driver or rider</td>\n",
       "      <td>Male</td>\n",
       "      <td>36</td>\n",
       "      <td>Slight</td>\n",
       "    </tr>\n",
       "    <tr>\n",
       "      <th>2</th>\n",
       "      <td>4110858</td>\n",
       "      <td>428940</td>\n",
       "      <td>429856</td>\n",
       "      <td>2</td>\n",
       "      <td>805</td>\n",
       "      <td>A</td>\n",
       "      <td>Wet/Damp</td>\n",
       "      <td>Day</td>\n",
       "      <td>Fine without high winds</td>\n",
       "      <td>Car</td>\n",
       "      <td>Driver or rider</td>\n",
       "      <td>Male</td>\n",
       "      <td>32</td>\n",
       "      <td>Slight</td>\n",
       "    </tr>\n",
       "    <tr>\n",
       "      <th>3</th>\n",
       "      <td>4110858</td>\n",
       "      <td>428940</td>\n",
       "      <td>429856</td>\n",
       "      <td>2</td>\n",
       "      <td>805</td>\n",
       "      <td>A</td>\n",
       "      <td>Wet/Damp</td>\n",
       "      <td>Day</td>\n",
       "      <td>Fine without high winds</td>\n",
       "      <td>Car</td>\n",
       "      <td>Driver or rider</td>\n",
       "      <td>Male</td>\n",
       "      <td>30</td>\n",
       "      <td>Slight</td>\n",
       "    </tr>\n",
       "    <tr>\n",
       "      <th>4</th>\n",
       "      <td>4111495</td>\n",
       "      <td>429899</td>\n",
       "      <td>434277</td>\n",
       "      <td>2</td>\n",
       "      <td>1705</td>\n",
       "      <td>U</td>\n",
       "      <td>Wet/Damp</td>\n",
       "      <td>Night</td>\n",
       "      <td>Raining without high winds</td>\n",
       "      <td>Car</td>\n",
       "      <td>Vehicle or pillion passenger</td>\n",
       "      <td>Female</td>\n",
       "      <td>26</td>\n",
       "      <td>Slight</td>\n",
       "    </tr>\n",
       "  </tbody>\n",
       "</table>\n",
       "</div>"
      ],
      "text/plain": [
       "  Reference Number  Grid Ref: Easting  Grid Ref: Northing  Number of Vehicles  \\\n",
       "0          3AP0313             426340              428455                   1   \n",
       "1          3BE0850             430828              433222                   2   \n",
       "2          4110858             428940              429856                   2   \n",
       "3          4110858             428940              429856                   2   \n",
       "4          4111495             429899              434277                   2   \n",
       "\n",
       "   Time road_type Road_Surface Day_or_Night          Weather_Conditions  \\\n",
       "0   815         A          Dry          Day                       Other   \n",
       "1  1330         A          Dry          Day     Fine without high winds   \n",
       "2   805         A     Wet/Damp          Day     Fine without high winds   \n",
       "3   805         A     Wet/Damp          Day     Fine without high winds   \n",
       "4  1705         U     Wet/Damp        Night  Raining without high winds   \n",
       "\n",
       "  Type_of_Vehicle                Casualty_Class  Gender  Age_of_Casualty  \\\n",
       "0             Car                    Pedestrian  Female               61   \n",
       "1     Pedal cycle               Driver or rider    Male               36   \n",
       "2             Car               Driver or rider    Male               32   \n",
       "3             Car               Driver or rider    Male               30   \n",
       "4             Car  Vehicle or pillion passenger  Female               26   \n",
       "\n",
       "  Severity  \n",
       "0  Serious  \n",
       "1   Slight  \n",
       "2   Slight  \n",
       "3   Slight  \n",
       "4   Slight  "
      ]
     },
     "execution_count": 3,
     "metadata": {},
     "output_type": "execute_result"
    }
   ],
   "source": [
    "data.head() #let's take a look at the first 5 rows"
   ]
  },
  {
   "cell_type": "markdown",
   "metadata": {},
   "source": [
    "# Exploratory Data Analysis"
   ]
  },
  {
   "cell_type": "markdown",
   "metadata": {},
   "source": [
    "Let's begin with some exploratory data analysis! We will start by checking out missing data!"
   ]
  },
  {
   "cell_type": "markdown",
   "metadata": {},
   "source": [
    "# Missing Data"
   ]
  },
  {
   "cell_type": "markdown",
   "metadata": {},
   "source": [
    "We can use seaborn to create a simple heatmap to see where we are missing data!"
   ]
  },
  {
   "cell_type": "code",
   "execution_count": 4,
   "metadata": {
    "scrolled": false
   },
   "outputs": [
    {
     "data": {
      "text/plain": [
       "<matplotlib.axes._subplots.AxesSubplot at 0x1ff9a435470>"
      ]
     },
     "execution_count": 4,
     "metadata": {},
     "output_type": "execute_result"
    },
    {
     "data": {
      "image/png": "[encoded data removed]",
      "text/plain": [
       "<Figure size 432x288 with 1 Axes>"
      ]
     },
     "metadata": {},
     "output_type": "display_data"
    }
   ],
   "source": [
    "sns.heatmap(data.isnull(),yticklabels=False,cbar=False,cmap='viridis')"
   ]
  },
  {
   "cell_type": "markdown",
   "metadata": {},
   "source": [
    "We can see that there are no missing values. Yellow marks should appear to indicate the missing values but it is not the case here.  "
   ]
  },
  {
   "cell_type": "markdown",
   "metadata": {},
   "source": [
    "Now, let's check the causlty severity cases, There are 3 cases:"
   ]
  },
  {
   "cell_type": "code",
   "execution_count": 5,
   "metadata": {},
   "outputs": [
    {
     "data": {
      "text/plain": [
       "<matplotlib.axes._subplots.AxesSubplot at 0x1ff9d506d30>"
      ]
     },
     "execution_count": 5,
     "metadata": {},
     "output_type": "execute_result"
    },
    {
     "data": {
      "image/png": "[encoded data removed]",
      "text/plain": [
       "<Figure size 432x288 with 1 Axes>"
      ]
     },
     "metadata": {},
     "output_type": "display_data"
    }
   ],
   "source": [
    "sns.set_style('whitegrid')\n",
    "sns.countplot(x='Severity',data=data)"
   ]
  },
  {
   "cell_type": "markdown",
   "metadata": {},
   "source": [
    "Now, let's explore severities by gender:"
   ]
  },
  {
   "cell_type": "code",
   "execution_count": 6,
   "metadata": {},
   "outputs": [
    {
     "name": "stdout",
     "output_type": "stream",
     "text": [
      "Severity\n",
      "Fatal        15\n",
      "Serious     309\n",
      "Slight     1879\n",
      "dtype: int64\n"
     ]
    },
    {
     "data": {
      "image/png": "[encoded data removed]",
      "text/plain": [
       "<Figure size 432x288 with 1 Axes>"
      ]
     },
     "metadata": {},
     "output_type": "display_data"
    }
   ],
   "source": [
    "sns.set_style('whitegrid')\n",
    "sns.countplot(x='Severity',hue='Gender',data=data,palette='rainbow')\n",
    "print(data.groupby('Severity').size())"
   ]
  },
  {
   "cell_type": "markdown",
   "metadata": {},
   "source": [
    "# Data Cleaning"
   ]
  },
  {
   "cell_type": "markdown",
   "metadata": {},
   "source": [
    "We can clearly see that some columns are irrelevent to our problem, so we have to drop them "
   ]
  },
  {
   "cell_type": "code",
   "execution_count": 7,
   "metadata": {},
   "outputs": [],
   "source": [
    "data= data.drop(['Reference Number','Grid Ref: Easting','Grid Ref: Northing','Type_of_Vehicle','Number of Vehicles'], axis=1)"
   ]
  },
  {
   "cell_type": "code",
   "execution_count": 8,
   "metadata": {},
   "outputs": [
    {
     "data": {
      "text/html": [
       "<div>\n",
       "<style scoped>\n",
       "    .dataframe tbody tr th:only-of-type {\n",
       "        vertical-align: middle;\n",
       "    }\n",
       "\n",
       "    .dataframe tbody tr th {\n",
       "        vertical-align: top;\n",
       "    }\n",
       "\n",
       "    .dataframe thead th {\n",
       "        text-align: right;\n",
       "    }\n",
       "</style>\n",
       "<table border=\"1\" class=\"dataframe\">\n",
       "  <thead>\n",
       "    <tr style=\"text-align: right;\">\n",
       "      <th></th>\n",
       "      <th>Time</th>\n",
       "      <th>road_type</th>\n",
       "      <th>Road_Surface</th>\n",
       "      <th>Day_or_Night</th>\n",
       "      <th>Weather_Conditions</th>\n",
       "      <th>Casualty_Class</th>\n",
       "      <th>Gender</th>\n",
       "      <th>Age_of_Casualty</th>\n",
       "      <th>Severity</th>\n",
       "    </tr>\n",
       "  </thead>\n",
       "  <tbody>\n",
       "    <tr>\n",
       "      <th>0</th>\n",
       "      <td>815</td>\n",
       "      <td>A</td>\n",
       "      <td>Dry</td>\n",
       "      <td>Day</td>\n",
       "      <td>Other</td>\n",
       "      <td>Pedestrian</td>\n",
       "      <td>Female</td>\n",
       "      <td>61</td>\n",
       "      <td>Serious</td>\n",
       "    </tr>\n",
       "    <tr>\n",
       "      <th>1</th>\n",
       "      <td>1330</td>\n",
       "      <td>A</td>\n",
       "      <td>Dry</td>\n",
       "      <td>Day</td>\n",
       "      <td>Fine without high winds</td>\n",
       "      <td>Driver or rider</td>\n",
       "      <td>Male</td>\n",
       "      <td>36</td>\n",
       "      <td>Slight</td>\n",
       "    </tr>\n",
       "    <tr>\n",
       "      <th>2</th>\n",
       "      <td>805</td>\n",
       "      <td>A</td>\n",
       "      <td>Wet/Damp</td>\n",
       "      <td>Day</td>\n",
       "      <td>Fine without high winds</td>\n",
       "      <td>Driver or rider</td>\n",
       "      <td>Male</td>\n",
       "      <td>32</td>\n",
       "      <td>Slight</td>\n",
       "    </tr>\n",
       "    <tr>\n",
       "      <th>3</th>\n",
       "      <td>805</td>\n",
       "      <td>A</td>\n",
       "      <td>Wet/Damp</td>\n",
       "      <td>Day</td>\n",
       "      <td>Fine without high winds</td>\n",
       "      <td>Driver or rider</td>\n",
       "      <td>Male</td>\n",
       "      <td>30</td>\n",
       "      <td>Slight</td>\n",
       "    </tr>\n",
       "    <tr>\n",
       "      <th>4</th>\n",
       "      <td>1705</td>\n",
       "      <td>U</td>\n",
       "      <td>Wet/Damp</td>\n",
       "      <td>Night</td>\n",
       "      <td>Raining without high winds</td>\n",
       "      <td>Vehicle or pillion passenger</td>\n",
       "      <td>Female</td>\n",
       "      <td>26</td>\n",
       "      <td>Slight</td>\n",
       "    </tr>\n",
       "  </tbody>\n",
       "</table>\n",
       "</div>"
      ],
      "text/plain": [
       "   Time road_type Road_Surface Day_or_Night          Weather_Conditions  \\\n",
       "0   815         A          Dry          Day                       Other   \n",
       "1  1330         A          Dry          Day     Fine without high winds   \n",
       "2   805         A     Wet/Damp          Day     Fine without high winds   \n",
       "3   805         A     Wet/Damp          Day     Fine without high winds   \n",
       "4  1705         U     Wet/Damp        Night  Raining without high winds   \n",
       "\n",
       "                 Casualty_Class  Gender  Age_of_Casualty Severity  \n",
       "0                    Pedestrian  Female               61  Serious  \n",
       "1               Driver or rider    Male               36   Slight  \n",
       "2               Driver or rider    Male               32   Slight  \n",
       "3               Driver or rider    Male               30   Slight  \n",
       "4  Vehicle or pillion passenger  Female               26   Slight  "
      ]
     },
     "execution_count": 8,
     "metadata": {},
     "output_type": "execute_result"
    }
   ],
   "source": [
    "data.head()"
   ]
  },
  {
   "cell_type": "markdown",
   "metadata": {},
   "source": [
    "For the time, I think it is better to convert it categorcial varibale. Since the data is obtained from UK, a quick internet search indicates that there are 2 time intervals that are considered as peak hour: 6:30 -> 9:30 and 16:00 -> 19:00. So, Time column will be converted to 2 values : Peak and Offpeak."
   ]
  },
  {
   "cell_type": "code",
   "execution_count": 11,
   "metadata": {
    "collapsed": true
   },
   "outputs": [
    {
     "name": "stderr",
     "output_type": "stream",
     "text": [
      "C:\\Users\\kict\\Anaconda3\\lib\\site-packages\\ipykernel_launcher.py:6: SettingWithCopyWarning: \n",
      "A value is trying to be set on a copy of a slice from a DataFrame\n",
      "\n",
      "See the caveats in the documentation: http://pandas.pydata.org/pandas-docs/stable/indexing.html#indexing-view-versus-copy\n",
      "  \n"
     ]
    },
    {
     "ename": "KeyboardInterrupt",
     "evalue": "",
     "output_type": "error",
     "traceback": [
      "\u001b[1;31m---------------------------------------------------------------------------\u001b[0m",
      "\u001b[1;31mKeyboardInterrupt\u001b[0m                         Traceback (most recent call last)",
      "\u001b[1;32m<ipython-input-11-4fa532d30719>\u001b[0m in \u001b[0;36m<module>\u001b[1;34m()\u001b[0m\n\u001b[0;32m      4\u001b[0m         \u001b[0mdata\u001b[0m\u001b[1;33m[\u001b[0m\u001b[1;34m'Time'\u001b[0m\u001b[1;33m]\u001b[0m\u001b[1;33m[\u001b[0m\u001b[0mi\u001b[0m\u001b[1;33m]\u001b[0m\u001b[1;33m=\u001b[0m\u001b[1;34m'peak'\u001b[0m\u001b[1;33m\u001b[0m\u001b[0m\n\u001b[0;32m      5\u001b[0m     \u001b[1;32melse\u001b[0m\u001b[1;33m:\u001b[0m\u001b[1;33m\u001b[0m\u001b[0m\n\u001b[1;32m----> 6\u001b[1;33m         \u001b[0mdata\u001b[0m\u001b[1;33m[\u001b[0m\u001b[1;34m'Time'\u001b[0m\u001b[1;33m]\u001b[0m\u001b[1;33m[\u001b[0m\u001b[0mi\u001b[0m\u001b[1;33m]\u001b[0m\u001b[1;33m=\u001b[0m\u001b[1;34m'offpeak'\u001b[0m\u001b[1;33m\u001b[0m\u001b[0m\n\u001b[0m",
      "\u001b[1;32m~\\Anaconda3\\lib\\site-packages\\pandas\\core\\series.py\u001b[0m in \u001b[0;36m__setitem__\u001b[1;34m(self, key, value)\u001b[0m\n\u001b[0;32m    935\u001b[0m \u001b[1;33m\u001b[0m\u001b[0m\n\u001b[0;32m    936\u001b[0m         \u001b[1;31m# do the setitem\u001b[0m\u001b[1;33m\u001b[0m\u001b[1;33m\u001b[0m\u001b[0m\n\u001b[1;32m--> 937\u001b[1;33m         \u001b[0mcacher_needs_updating\u001b[0m \u001b[1;33m=\u001b[0m \u001b[0mself\u001b[0m\u001b[1;33m.\u001b[0m\u001b[0m_check_is_chained_assignment_possible\u001b[0m\u001b[1;33m(\u001b[0m\u001b[1;33m)\u001b[0m\u001b[1;33m\u001b[0m\u001b[0m\n\u001b[0m\u001b[0;32m    938\u001b[0m         \u001b[0msetitem\u001b[0m\u001b[1;33m(\u001b[0m\u001b[0mkey\u001b[0m\u001b[1;33m,\u001b[0m \u001b[0mvalue\u001b[0m\u001b[1;33m)\u001b[0m\u001b[1;33m\u001b[0m\u001b[0m\n\u001b[0;32m    939\u001b[0m         \u001b[1;32mif\u001b[0m \u001b[0mcacher_needs_updating\u001b[0m\u001b[1;33m:\u001b[0m\u001b[1;33m\u001b[0m\u001b[0m\n",
      "\u001b[1;32m~\\Anaconda3\\lib\\site-packages\\pandas\\core\\generic.py\u001b[0m in \u001b[0;36m_check_is_chained_assignment_possible\u001b[1;34m(self)\u001b[0m\n\u001b[0;32m   2622\u001b[0m             \u001b[1;32mif\u001b[0m \u001b[0mref\u001b[0m \u001b[1;32mis\u001b[0m \u001b[1;32mnot\u001b[0m \u001b[1;32mNone\u001b[0m \u001b[1;32mand\u001b[0m \u001b[0mref\u001b[0m\u001b[1;33m.\u001b[0m\u001b[0m_is_mixed_type\u001b[0m\u001b[1;33m:\u001b[0m\u001b[1;33m\u001b[0m\u001b[0m\n\u001b[0;32m   2623\u001b[0m                 self._check_setitem_copy(stacklevel=4, t='referant',\n\u001b[1;32m-> 2624\u001b[1;33m                                          force=True)\n\u001b[0m\u001b[0;32m   2625\u001b[0m             \u001b[1;32mreturn\u001b[0m \u001b[1;32mTrue\u001b[0m\u001b[1;33m\u001b[0m\u001b[0m\n\u001b[0;32m   2626\u001b[0m         \u001b[1;32melif\u001b[0m \u001b[0mself\u001b[0m\u001b[1;33m.\u001b[0m\u001b[0m_is_copy\u001b[0m\u001b[1;33m:\u001b[0m\u001b[1;33m\u001b[0m\u001b[0m\n",
      "\u001b[1;32m~\\Anaconda3\\lib\\site-packages\\pandas\\core\\generic.py\u001b[0m in \u001b[0;36m_check_setitem_copy\u001b[1;34m(self, stacklevel, t, force)\u001b[0m\n\u001b[0;32m   2669\u001b[0m             \u001b[1;32mtry\u001b[0m\u001b[1;33m:\u001b[0m\u001b[1;33m\u001b[0m\u001b[0m\n\u001b[0;32m   2670\u001b[0m                 \u001b[0mgc\u001b[0m\u001b[1;33m.\u001b[0m\u001b[0mcollect\u001b[0m\u001b[1;33m(\u001b[0m\u001b[1;36m2\u001b[0m\u001b[1;33m)\u001b[0m\u001b[1;33m\u001b[0m\u001b[0m\n\u001b[1;32m-> 2671\u001b[1;33m                 \u001b[1;32mif\u001b[0m \u001b[1;32mnot\u001b[0m \u001b[0mgc\u001b[0m\u001b[1;33m.\u001b[0m\u001b[0mget_referents\u001b[0m\u001b[1;33m(\u001b[0m\u001b[0mself\u001b[0m\u001b[1;33m.\u001b[0m\u001b[0m_is_copy\u001b[0m\u001b[1;33m(\u001b[0m\u001b[1;33m)\u001b[0m\u001b[1;33m)\u001b[0m\u001b[1;33m:\u001b[0m\u001b[1;33m\u001b[0m\u001b[0m\n\u001b[0m\u001b[0;32m   2672\u001b[0m                     \u001b[0mself\u001b[0m\u001b[1;33m.\u001b[0m\u001b[0m_is_copy\u001b[0m \u001b[1;33m=\u001b[0m \u001b[1;32mNone\u001b[0m\u001b[1;33m\u001b[0m\u001b[0m\n\u001b[0;32m   2673\u001b[0m                     \u001b[1;32mreturn\u001b[0m\u001b[1;33m\u001b[0m\u001b[0m\n",
      "\u001b[1;31mKeyboardInterrupt\u001b[0m: "
     ]
    }
   ],
   "source": [
    "for i in range (data['Time'].count()):\n",
    "    \n",
    "    if (data['Time'][i] in range(360,931)) or (data['Time'][i] in range(1600,1901)):\n",
    "        data['Time'][i]='peak'\n",
    "    else:\n",
    "        data['Time'][i]='offpeak'"
   ]
  },
  {
   "cell_type": "code",
   "execution_count": 13,
   "metadata": {
    "scrolled": true
   },
   "outputs": [
    {
     "data": {
      "text/html": [
       "<div>\n",
       "<style scoped>\n",
       "    .dataframe tbody tr th:only-of-type {\n",
       "        vertical-align: middle;\n",
       "    }\n",
       "\n",
       "    .dataframe tbody tr th {\n",
       "        vertical-align: top;\n",
       "    }\n",
       "\n",
       "    .dataframe thead th {\n",
       "        text-align: right;\n",
       "    }\n",
       "</style>\n",
       "<table border=\"1\" class=\"dataframe\">\n",
       "  <thead>\n",
       "    <tr style=\"text-align: right;\">\n",
       "      <th></th>\n",
       "      <th>Time</th>\n",
       "      <th>road_type</th>\n",
       "      <th>Road_Surface</th>\n",
       "      <th>Day_or_Night</th>\n",
       "      <th>Weather_Conditions</th>\n",
       "      <th>Casualty_Class</th>\n",
       "      <th>Gender</th>\n",
       "      <th>Age_of_Casualty</th>\n",
       "      <th>Severity</th>\n",
       "    </tr>\n",
       "  </thead>\n",
       "  <tbody>\n",
       "    <tr>\n",
       "      <th>0</th>\n",
       "      <td>offpeak</td>\n",
       "      <td>A</td>\n",
       "      <td>Dry</td>\n",
       "      <td>Day</td>\n",
       "      <td>Other</td>\n",
       "      <td>Pedestrian</td>\n",
       "      <td>Female</td>\n",
       "      <td>61</td>\n",
       "      <td>Serious</td>\n",
       "    </tr>\n",
       "    <tr>\n",
       "      <th>1</th>\n",
       "      <td>offpeak</td>\n",
       "      <td>A</td>\n",
       "      <td>Dry</td>\n",
       "      <td>Day</td>\n",
       "      <td>Fine without high winds</td>\n",
       "      <td>Driver or rider</td>\n",
       "      <td>Male</td>\n",
       "      <td>36</td>\n",
       "      <td>Slight</td>\n",
       "    </tr>\n",
       "    <tr>\n",
       "      <th>2</th>\n",
       "      <td>offpeak</td>\n",
       "      <td>A</td>\n",
       "      <td>Wet/Damp</td>\n",
       "      <td>Day</td>\n",
       "      <td>Fine without high winds</td>\n",
       "      <td>Driver or rider</td>\n",
       "      <td>Male</td>\n",
       "      <td>32</td>\n",
       "      <td>Slight</td>\n",
       "    </tr>\n",
       "    <tr>\n",
       "      <th>3</th>\n",
       "      <td>offpeak</td>\n",
       "      <td>A</td>\n",
       "      <td>Wet/Damp</td>\n",
       "      <td>Day</td>\n",
       "      <td>Fine without high winds</td>\n",
       "      <td>Driver or rider</td>\n",
       "      <td>Male</td>\n",
       "      <td>30</td>\n",
       "      <td>Slight</td>\n",
       "    </tr>\n",
       "    <tr>\n",
       "      <th>4</th>\n",
       "      <td>offpeak</td>\n",
       "      <td>U</td>\n",
       "      <td>Wet/Damp</td>\n",
       "      <td>Night</td>\n",
       "      <td>Raining without high winds</td>\n",
       "      <td>Vehicle or pillion passenger</td>\n",
       "      <td>Female</td>\n",
       "      <td>26</td>\n",
       "      <td>Slight</td>\n",
       "    </tr>\n",
       "  </tbody>\n",
       "</table>\n",
       "</div>"
      ],
      "text/plain": [
       "      Time road_type Road_Surface Day_or_Night          Weather_Conditions  \\\n",
       "0  offpeak         A          Dry          Day                       Other   \n",
       "1  offpeak         A          Dry          Day     Fine without high winds   \n",
       "2  offpeak         A     Wet/Damp          Day     Fine without high winds   \n",
       "3  offpeak         A     Wet/Damp          Day     Fine without high winds   \n",
       "4  offpeak         U     Wet/Damp        Night  Raining without high winds   \n",
       "\n",
       "                 Casualty_Class  Gender  Age_of_Casualty Severity  \n",
       "0                    Pedestrian  Female               61  Serious  \n",
       "1               Driver or rider    Male               36   Slight  \n",
       "2               Driver or rider    Male               32   Slight  \n",
       "3               Driver or rider    Male               30   Slight  \n",
       "4  Vehicle or pillion passenger  Female               26   Slight  "
      ]
     },
     "execution_count": 13,
     "metadata": {},
     "output_type": "execute_result"
    }
   ],
   "source": [
    "data.head()"
   ]
  },
  {
   "cell_type": "markdown",
   "metadata": {},
   "source": [
    "# Converting Categorical Features"
   ]
  },
  {
   "cell_type": "markdown",
   "metadata": {},
   "source": [
    "We'll need to convert categorical features to dummy variables using pandas! Otherwise our machine learning algorithm won't be able to directly take in those features as inputs."
   ]
  },
  {
   "cell_type": "code",
   "execution_count": 15,
   "metadata": {},
   "outputs": [
    {
     "name": "stdout",
     "output_type": "stream",
     "text": [
      "<class 'pandas.core.frame.DataFrame'>\n",
      "RangeIndex: 2203 entries, 0 to 2202\n",
      "Data columns (total 9 columns):\n",
      "Time                  2203 non-null object\n",
      "road_type             2203 non-null object\n",
      "Road_Surface          2203 non-null object\n",
      "Day_or_Night          2203 non-null object\n",
      "Weather_Conditions    2203 non-null object\n",
      "Casualty_Class        2203 non-null object\n",
      "Gender                2203 non-null object\n",
      "Age_of_Casualty       2203 non-null int64\n",
      "Severity              2203 non-null object\n",
      "dtypes: int64(1), object(8)\n",
      "memory usage: 155.0+ KB\n"
     ]
    }
   ],
   "source": [
    "data.info()"
   ]
  },
  {
   "cell_type": "code",
   "execution_count": 16,
   "metadata": {},
   "outputs": [],
   "source": [
    "Time=pd.get_dummies(data['Time'],drop_first=True)\n",
    "road_type=pd.get_dummies(data['road_type'],drop_first=True)\n",
    "Road_Surface=pd.get_dummies(data['Road_Surface'],drop_first=True)\n",
    "Day_or_Night=pd.get_dummies(data['Day_or_Night'],drop_first=True)\n",
    "Weather_Conditions=pd.get_dummies(data['Weather_Conditions'],drop_first=True)\n",
    "Casualty_Class=pd.get_dummies(data['Casualty_Class'],drop_first=True)\n",
    "Gender=pd.get_dummies(data['Gender'],drop_first=True)"
   ]
  },
  {
   "cell_type": "code",
   "execution_count": 17,
   "metadata": {},
   "outputs": [],
   "source": [
    "data.drop(['Time','road_type','Road_Surface','Day_or_Night','Weather_Conditions','Casualty_Class','Gender'],axis=1,inplace=True)"
   ]
  },
  {
   "cell_type": "code",
   "execution_count": 18,
   "metadata": {},
   "outputs": [
    {
     "data": {
      "text/html": [
       "<div>\n",
       "<style scoped>\n",
       "    .dataframe tbody tr th:only-of-type {\n",
       "        vertical-align: middle;\n",
       "    }\n",
       "\n",
       "    .dataframe tbody tr th {\n",
       "        vertical-align: top;\n",
       "    }\n",
       "\n",
       "    .dataframe thead th {\n",
       "        text-align: right;\n",
       "    }\n",
       "</style>\n",
       "<table border=\"1\" class=\"dataframe\">\n",
       "  <thead>\n",
       "    <tr style=\"text-align: right;\">\n",
       "      <th></th>\n",
       "      <th>Age_of_Casualty</th>\n",
       "      <th>Severity</th>\n",
       "    </tr>\n",
       "  </thead>\n",
       "  <tbody>\n",
       "    <tr>\n",
       "      <th>0</th>\n",
       "      <td>61</td>\n",
       "      <td>Serious</td>\n",
       "    </tr>\n",
       "    <tr>\n",
       "      <th>1</th>\n",
       "      <td>36</td>\n",
       "      <td>Slight</td>\n",
       "    </tr>\n",
       "    <tr>\n",
       "      <th>2</th>\n",
       "      <td>32</td>\n",
       "      <td>Slight</td>\n",
       "    </tr>\n",
       "    <tr>\n",
       "      <th>3</th>\n",
       "      <td>30</td>\n",
       "      <td>Slight</td>\n",
       "    </tr>\n",
       "    <tr>\n",
       "      <th>4</th>\n",
       "      <td>26</td>\n",
       "      <td>Slight</td>\n",
       "    </tr>\n",
       "  </tbody>\n",
       "</table>\n",
       "</div>"
      ],
      "text/plain": [
       "   Age_of_Casualty Severity\n",
       "0               61  Serious\n",
       "1               36   Slight\n",
       "2               32   Slight\n",
       "3               30   Slight\n",
       "4               26   Slight"
      ]
     },
     "execution_count": 18,
     "metadata": {},
     "output_type": "execute_result"
    }
   ],
   "source": [
    "data.head()"
   ]
  },
  {
   "cell_type": "code",
   "execution_count": 19,
   "metadata": {},
   "outputs": [],
   "source": [
    "data = pd.concat([Time,road_type,Road_Surface,Day_or_Night,Weather_Conditions,Casualty_Class,Gender,data],axis=1)"
   ]
  },
  {
   "cell_type": "code",
   "execution_count": 20,
   "metadata": {
    "scrolled": true
   },
   "outputs": [
    {
     "data": {
      "text/html": [
       "<div>\n",
       "<style scoped>\n",
       "    .dataframe tbody tr th:only-of-type {\n",
       "        vertical-align: middle;\n",
       "    }\n",
       "\n",
       "    .dataframe tbody tr th {\n",
       "        vertical-align: top;\n",
       "    }\n",
       "\n",
       "    .dataframe thead th {\n",
       "        text-align: right;\n",
       "    }\n",
       "</style>\n",
       "<table border=\"1\" class=\"dataframe\">\n",
       "  <thead>\n",
       "    <tr style=\"text-align: right;\">\n",
       "      <th></th>\n",
       "      <th>peak</th>\n",
       "      <th>A(M)</th>\n",
       "      <th>B</th>\n",
       "      <th>C</th>\n",
       "      <th>M</th>\n",
       "      <th>U</th>\n",
       "      <th>Frost/Ice</th>\n",
       "      <th>Snow</th>\n",
       "      <th>Wet/Damp</th>\n",
       "      <th>Night</th>\n",
       "      <th>...</th>\n",
       "      <th>Other</th>\n",
       "      <th>Raining with high winds</th>\n",
       "      <th>Raining without high winds</th>\n",
       "      <th>Snowing with high winds</th>\n",
       "      <th>Snowing without high winds</th>\n",
       "      <th>Pedestrian</th>\n",
       "      <th>Vehicle or pillion passenger</th>\n",
       "      <th>Male</th>\n",
       "      <th>Age_of_Casualty</th>\n",
       "      <th>Severity</th>\n",
       "    </tr>\n",
       "  </thead>\n",
       "  <tbody>\n",
       "    <tr>\n",
       "      <th>0</th>\n",
       "      <td>0</td>\n",
       "      <td>0</td>\n",
       "      <td>0</td>\n",
       "      <td>0</td>\n",
       "      <td>0</td>\n",
       "      <td>0</td>\n",
       "      <td>0</td>\n",
       "      <td>0</td>\n",
       "      <td>0</td>\n",
       "      <td>0</td>\n",
       "      <td>...</td>\n",
       "      <td>1</td>\n",
       "      <td>0</td>\n",
       "      <td>0</td>\n",
       "      <td>0</td>\n",
       "      <td>0</td>\n",
       "      <td>1</td>\n",
       "      <td>0</td>\n",
       "      <td>0</td>\n",
       "      <td>61</td>\n",
       "      <td>Serious</td>\n",
       "    </tr>\n",
       "    <tr>\n",
       "      <th>1</th>\n",
       "      <td>0</td>\n",
       "      <td>0</td>\n",
       "      <td>0</td>\n",
       "      <td>0</td>\n",
       "      <td>0</td>\n",
       "      <td>0</td>\n",
       "      <td>0</td>\n",
       "      <td>0</td>\n",
       "      <td>0</td>\n",
       "      <td>0</td>\n",
       "      <td>...</td>\n",
       "      <td>0</td>\n",
       "      <td>0</td>\n",
       "      <td>0</td>\n",
       "      <td>0</td>\n",
       "      <td>0</td>\n",
       "      <td>0</td>\n",
       "      <td>0</td>\n",
       "      <td>1</td>\n",
       "      <td>36</td>\n",
       "      <td>Slight</td>\n",
       "    </tr>\n",
       "    <tr>\n",
       "      <th>2</th>\n",
       "      <td>0</td>\n",
       "      <td>0</td>\n",
       "      <td>0</td>\n",
       "      <td>0</td>\n",
       "      <td>0</td>\n",
       "      <td>0</td>\n",
       "      <td>0</td>\n",
       "      <td>0</td>\n",
       "      <td>1</td>\n",
       "      <td>0</td>\n",
       "      <td>...</td>\n",
       "      <td>0</td>\n",
       "      <td>0</td>\n",
       "      <td>0</td>\n",
       "      <td>0</td>\n",
       "      <td>0</td>\n",
       "      <td>0</td>\n",
       "      <td>0</td>\n",
       "      <td>1</td>\n",
       "      <td>32</td>\n",
       "      <td>Slight</td>\n",
       "    </tr>\n",
       "    <tr>\n",
       "      <th>3</th>\n",
       "      <td>0</td>\n",
       "      <td>0</td>\n",
       "      <td>0</td>\n",
       "      <td>0</td>\n",
       "      <td>0</td>\n",
       "      <td>0</td>\n",
       "      <td>0</td>\n",
       "      <td>0</td>\n",
       "      <td>1</td>\n",
       "      <td>0</td>\n",
       "      <td>...</td>\n",
       "      <td>0</td>\n",
       "      <td>0</td>\n",
       "      <td>0</td>\n",
       "      <td>0</td>\n",
       "      <td>0</td>\n",
       "      <td>0</td>\n",
       "      <td>0</td>\n",
       "      <td>1</td>\n",
       "      <td>30</td>\n",
       "      <td>Slight</td>\n",
       "    </tr>\n",
       "    <tr>\n",
       "      <th>4</th>\n",
       "      <td>0</td>\n",
       "      <td>0</td>\n",
       "      <td>0</td>\n",
       "      <td>0</td>\n",
       "      <td>0</td>\n",
       "      <td>1</td>\n",
       "      <td>0</td>\n",
       "      <td>0</td>\n",
       "      <td>1</td>\n",
       "      <td>1</td>\n",
       "      <td>...</td>\n",
       "      <td>0</td>\n",
       "      <td>0</td>\n",
       "      <td>1</td>\n",
       "      <td>0</td>\n",
       "      <td>0</td>\n",
       "      <td>0</td>\n",
       "      <td>1</td>\n",
       "      <td>0</td>\n",
       "      <td>26</td>\n",
       "      <td>Slight</td>\n",
       "    </tr>\n",
       "  </tbody>\n",
       "</table>\n",
       "<p>5 rows × 22 columns</p>\n",
       "</div>"
      ],
      "text/plain": [
       "   peak  A(M)  B  C  M  U  Frost/Ice  Snow  Wet/Damp  Night    ...     Other  \\\n",
       "0     0     0  0  0  0  0          0     0         0      0    ...         1   \n",
       "1     0     0  0  0  0  0          0     0         0      0    ...         0   \n",
       "2     0     0  0  0  0  0          0     0         1      0    ...         0   \n",
       "3     0     0  0  0  0  0          0     0         1      0    ...         0   \n",
       "4     0     0  0  0  0  1          0     0         1      1    ...         0   \n",
       "\n",
       "   Raining with high winds  Raining without high winds  \\\n",
       "0                        0                           0   \n",
       "1                        0                           0   \n",
       "2                        0                           0   \n",
       "3                        0                           0   \n",
       "4                        0                           1   \n",
       "\n",
       "   Snowing with high winds  Snowing without high winds  Pedestrian  \\\n",
       "0                        0                           0           1   \n",
       "1                        0                           0           0   \n",
       "2                        0                           0           0   \n",
       "3                        0                           0           0   \n",
       "4                        0                           0           0   \n",
       "\n",
       "   Vehicle or pillion passenger  Male  Age_of_Casualty  Severity  \n",
       "0                             0     0               61   Serious  \n",
       "1                             0     1               36    Slight  \n",
       "2                             0     1               32    Slight  \n",
       "3                             0     1               30    Slight  \n",
       "4                             1     0               26    Slight  \n",
       "\n",
       "[5 rows x 22 columns]"
      ]
     },
     "execution_count": 20,
     "metadata": {},
     "output_type": "execute_result"
    }
   ],
   "source": [
    "data.head()"
   ]
  },
  {
   "cell_type": "code",
   "execution_count": 21,
   "metadata": {},
   "outputs": [
    {
     "name": "stdout",
     "output_type": "stream",
     "text": [
      "<class 'pandas.core.frame.DataFrame'>\n",
      "RangeIndex: 2203 entries, 0 to 2202\n",
      "Data columns (total 22 columns):\n",
      "peak                            2203 non-null uint8\n",
      "A(M)                            2203 non-null uint8\n",
      "B                               2203 non-null uint8\n",
      "C                               2203 non-null uint8\n",
      "M                               2203 non-null uint8\n",
      "U                               2203 non-null uint8\n",
      "Frost/Ice                       2203 non-null uint8\n",
      "Snow                            2203 non-null uint8\n",
      "Wet/Damp                        2203 non-null uint8\n",
      "Night                           2203 non-null uint8\n",
      "Fine without high winds         2203 non-null uint8\n",
      "Fog or mist (if hazard)         2203 non-null uint8\n",
      "Other                           2203 non-null uint8\n",
      "Raining with high winds         2203 non-null uint8\n",
      "Raining without high winds      2203 non-null uint8\n",
      "Snowing with high winds         2203 non-null uint8\n",
      "Snowing without high winds      2203 non-null uint8\n",
      "Pedestrian                      2203 non-null uint8\n",
      "Vehicle or pillion passenger    2203 non-null uint8\n",
      "Male                            2203 non-null uint8\n",
      "Age_of_Casualty                 2203 non-null int64\n",
      "Severity                        2203 non-null object\n",
      "dtypes: int64(1), object(1), uint8(20)\n",
      "memory usage: 77.5+ KB\n"
     ]
    }
   ],
   "source": [
    "data.info()"
   ]
  },
  {
   "cell_type": "markdown",
   "metadata": {},
   "source": [
    "# Building our models"
   ]
  },
  {
   "cell_type": "markdown",
   "metadata": {},
   "source": [
    "Let's start by importing libraries sklearn package.  (machine learning package) "
   ]
  },
  {
   "cell_type": "code",
   "execution_count": 22,
   "metadata": {},
   "outputs": [],
   "source": [
    "from sklearn import model_selection\n",
    "from sklearn.metrics import classification_report\n",
    "from sklearn.metrics import confusion_matrix\n",
    "from sklearn.metrics import accuracy_score\n",
    "from sklearn.linear_model import LogisticRegression\n",
    "from sklearn.tree import DecisionTreeClassifier\n",
    "from sklearn.neighbors import KNeighborsClassifier\n",
    "from sklearn.discriminant_analysis import LinearDiscriminantAnalysis\n",
    "from sklearn.naive_bayes import GaussianNB\n",
    "from sklearn.svm import SVC"
   ]
  },
  {
   "cell_type": "markdown",
   "metadata": {},
   "source": [
    "Splitting dataset into Training and validation"
   ]
  },
  {
   "cell_type": "code",
   "execution_count": 19,
   "metadata": {},
   "outputs": [],
   "source": [
    "array = data.values\n",
    "X = array[:,0:21]\n",
    "Y = array[:,21]\n",
    "validation_size = 0.20\n",
    "seed = 7\n",
    "X_train, X_validation, Y_train, Y_validation = model_selection.train_test_split(X, Y, test_size=validation_size, random_state=seed)"
   ]
  },
  {
   "cell_type": "markdown",
   "metadata": {},
   "source": [
    "Preparing algorithms"
   ]
  },
  {
   "cell_type": "code",
   "execution_count": 21,
   "metadata": {},
   "outputs": [],
   "source": [
    "# Test options and evaluation metric\n",
    "seed = 7\n",
    "scoring = 'accuracy'\n",
    "# Spot Check Algorithms\n",
    "models = []\n",
    "models.append(('LR', LogisticRegression(solver='liblinear', multi_class='ovr')))\n",
    "models.append(('LDA', LinearDiscriminantAnalysis()))\n",
    "models.append(('KNN', KNeighborsClassifier()))\n",
    "models.append(('CART', DecisionTreeClassifier()))\n",
    "models.append(('NB', GaussianNB()))\n",
    "models.append(('SVM', SVC(gamma='auto')))"
   ]
  },
  {
   "cell_type": "markdown",
   "metadata": {},
   "source": [
    "Now the magic happens"
   ]
  },
  {
   "cell_type": "code",
   "execution_count": 22,
   "metadata": {},
   "outputs": [
    {
     "name": "stdout",
     "output_type": "stream",
     "text": [
      "LR: 0.852469 (0.031134)\n",
      "LDA: 0.841127 (0.036025)\n",
      "KNN: 0.838258 (0.027825)\n",
      "CART: 0.741227 (0.030071)\n",
      "NB: 0.059027 (0.016118)\n",
      "SVM: 0.853602 (0.030610)\n"
     ]
    }
   ],
   "source": [
    "# evaluate each model in turn\n",
    "results = []\n",
    "names = []\n",
    "for name, model in models:\n",
    "    kfold = model_selection.KFold(n_splits=10, random_state=seed)\n",
    "    cv_results = model_selection.cross_val_score(model, X_train, Y_train, cv=kfold, scoring=scoring)\n",
    "    results.append(cv_results)\n",
    "    names.append(name)\n",
    "    msg = \"%s: %f (%f)\" % (name, cv_results.mean(), cv_results.std())\n",
    "    print(msg)"
   ]
  },
  {
   "cell_type": "markdown",
   "metadata": {},
   "source": [
    "We can clealy see that Logistic Regression model and Support Vector Machine model are the best. SVM slightly outperforms , so we choose it for further validation"
   ]
  },
  {
   "cell_type": "code",
   "execution_count": 25,
   "metadata": {
    "scrolled": false
   },
   "outputs": [
    {
     "name": "stdout",
     "output_type": "stream",
     "text": [
      "0.8208616780045351\n",
      "[[  0   0   2]\n",
      " [  1   0  63]\n",
      " [  0  13 362]]\n",
      "             precision    recall  f1-score   support\n",
      "\n",
      "      Fatal       0.00      0.00      0.00         2\n",
      "    Serious       0.00      0.00      0.00        64\n",
      "     Slight       0.85      0.97      0.90       375\n",
      "\n",
      "avg / total       0.72      0.82      0.77       441\n",
      "\n"
     ]
    }
   ],
   "source": [
    "# Make predictions on validation dataset\n",
    "svclassifier = SVC(kernel='linear')  \n",
    "svclassifier.fit(X_train, Y_train)\n",
    "predictions = svclassifier.predict(X_validation)\n",
    "print(accuracy_score(Y_validation, predictions))\n",
    "print(confusion_matrix(Y_validation, predictions))\n",
    "print(classification_report(Y_validation, predictions))"
   ]
  },
  {
   "cell_type": "markdown",
   "metadata": {},
   "source": [
    "The performance validation results shows an acceptable results. However, this can be further improved in the future. "
   ]
  },
  {
   "cell_type": "markdown",
   "metadata": {},
   "source": [
    "# Thank you !"
   ]
  }
 ],
 "metadata": {
  "kernelspec": {
   "display_name": "Python 3",
   "language": "python",
   "name": "python3"
  },
  "language_info": {
   "codemirror_mode": {
    "name": "ipython",
    "version": 3
   },
   "file_extension": ".py",
   "mimetype": "text/x-python",
   "name": "python",
   "nbconvert_exporter": "python",
   "pygments_lexer": "ipython3",
   "version": "3.7.4"
  }
 },
 "nbformat": 4,
 "nbformat_minor": 2
}
